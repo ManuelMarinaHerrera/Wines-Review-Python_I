{
 "cells": [
  {
   "cell_type": "markdown",
   "metadata": {},
   "source": [
    "## Individual assignment\n",
    "\n",
    "### Wine reviews JSON dataset\n",
    "\n",
    "Using the attached dataset *wine.json* please answer the questions proposed in this notebook. Create new cells as needed after each questions to get to the answer. "
   ]
  },
  {
   "cell_type": "markdown",
   "metadata": {},
   "source": [
    "### 0. Load the data as a Python object and print the first item"
   ]
  },
  {
   "cell_type": "code",
   "execution_count": 7,
   "metadata": {},
   "outputs": [
    {
     "data": {
      "text/plain": [
       "{'points': '87',\n",
       " 'title': 'Nicosia 2013 Vulkà Bianco  (Etna)',\n",
       " 'description': \"Aromas include tropical fruit, broom, brimstone and dried herb. The palate isn't overly expressive, offering unripened apple, citrus and dried sage alongside brisk acidity.\",\n",
       " 'taster_name': 'Kerin O’Keefe',\n",
       " 'taster_twitter_handle': '@kerinokeefe',\n",
       " 'price': None,\n",
       " 'designation': 'Vulkà Bianco',\n",
       " 'variety': 'White Blend',\n",
       " 'region_1': 'Etna',\n",
       " 'region_2': None,\n",
       " 'province': 'Sicily & Sardinia',\n",
       " 'country': 'Italy',\n",
       " 'winery': 'Nicosia'}"
      ]
     },
     "execution_count": 7,
     "metadata": {},
     "output_type": "execute_result"
    }
   ],
   "source": [
    "import json\n",
    "\n",
    "with open(\"wine.json\", encoding = \"utf-8\") as f:\n",
    "    wines = json.load(f)\n",
    "\n",
    "# This will help us to read the json file and have a look on the information which conatains the file\n",
    "wines[0]"
   ]
  },
  {
   "cell_type": "markdown",
   "metadata": {},
   "source": [
    "### 1. How many wine reviews are included in the dataset? (1 point)"
   ]
  },
  {
   "cell_type": "code",
   "execution_count": 7,
   "metadata": {},
   "outputs": [
    {
     "data": {
      "text/plain": [
       "129971"
      ]
     },
     "execution_count": 7,
     "metadata": {},
     "output_type": "execute_result"
    }
   ],
   "source": [
    "len(wines)"
   ]
  },
  {
   "cell_type": "markdown",
   "metadata": {},
   "source": [
    "### 2. Add a new {key:value} pair in each item in the list (1 point)\n",
    "\n",
    "The new key should be called *length* and it should indicate the amount of words in the *description* value.\n",
    "\n",
    "For example, the following description:\n",
    "* \"Very strong taste like apple and cinnamon\"\n",
    "\n",
    "should have a *length* value of **7** "
   ]
  },
  {
   "cell_type": "code",
   "execution_count": 8,
   "metadata": {},
   "outputs": [
    {
     "data": {
      "text/plain": [
       "{'points': '87',\n",
       " 'title': 'Nicosia 2013 Vulkà Bianco  (Etna)',\n",
       " 'description': \"Aromas include tropical fruit, broom, brimstone and dried herb. The palate isn't overly expressive, offering unripened apple, citrus and dried sage alongside brisk acidity.\",\n",
       " 'taster_name': 'Kerin O’Keefe',\n",
       " 'taster_twitter_handle': '@kerinokeefe',\n",
       " 'price': None,\n",
       " 'designation': 'Vulkà Bianco',\n",
       " 'variety': 'White Blend',\n",
       " 'region_1': 'Etna',\n",
       " 'region_2': None,\n",
       " 'province': 'Sicily & Sardinia',\n",
       " 'country': 'Italy',\n",
       " 'winery': 'Nicosia',\n",
       " 'length': 24}"
      ]
     },
     "execution_count": 8,
     "metadata": {},
     "output_type": "execute_result"
    }
   ],
   "source": [
    "# 1st we are going to review the description key of the json file and store it in a new value\n",
    "# 2nd With that new value we are going to count how many words does it contains without counting the spaces between them\n",
    "# Finally we are going to create a new key called length to store it in the json file\n",
    "for index in range(len(wines)):\n",
    "    review = wines[index]\n",
    "    valueDescription = review[\"description\"]\n",
    "    lengthDescription = len(valueDescription.split())\n",
    "    review[\"length\"] = lengthDescription\n",
    "    \n",
    "wines[0]"
   ]
  },
  {
   "cell_type": "markdown",
   "metadata": {},
   "source": [
    "### 3. How many different countries have wines reviewed in the dataset? (1 point)"
   ]
  },
  {
   "cell_type": "code",
   "execution_count": 9,
   "metadata": {},
   "outputs": [
    {
     "data": {
      "text/plain": [
       "44"
      ]
     },
     "execution_count": 9,
     "metadata": {},
     "output_type": "execute_result"
    }
   ],
   "source": [
    "# We convert the json file into a dictionary using the following procedure\n",
    "wine = {}\n",
    "\n",
    "for i, item in enumerate(wines):\n",
    "    wine[f\"grape_{i}\"] = item\n",
    "# As eeach country is unique we are going to use a set\n",
    "# Going to use an empty list call countries in which im going to store all my countries\n",
    "# We are going to loop through the dictionary using item and afterwards goimg to append the country\n",
    "countries = []\n",
    "\n",
    "for grape, data in wine.items():\n",
    "    countries.append(data[\"country\"])\n",
    "# Usin len and set we are able to count how many unique countries are   \n",
    "len(set(countries))"
   ]
  },
  {
   "cell_type": "markdown",
   "metadata": {},
   "source": [
    "### 4. Build a dictionary with the following structure: (1 point)\n",
    "\n",
    "{country: number of wines reviewed coming from that country}"
   ]
  },
  {
   "cell_type": "code",
   "execution_count": 10,
   "metadata": {},
   "outputs": [
    {
     "data": {
      "text/plain": [
       "{'Australia': 2329,\n",
       " 'US': 54504,\n",
       " None: 63,\n",
       " 'Moldova': 59,\n",
       " 'Croatia': 73,\n",
       " 'Mexico': 70,\n",
       " 'China': 1,\n",
       " 'France': 22093,\n",
       " 'Slovenia': 87,\n",
       " 'Germany': 2165,\n",
       " 'Brazil': 52,\n",
       " 'Cyprus': 11,\n",
       " 'Lebanon': 35,\n",
       " 'Uruguay': 109,\n",
       " 'Serbia': 12,\n",
       " 'Turkey': 90,\n",
       " 'Austria': 3345,\n",
       " 'England': 74,\n",
       " 'Switzerland': 7,\n",
       " 'Bosnia and Herzegovina': 2,\n",
       " 'Spain': 6645,\n",
       " 'Czech Republic': 12,\n",
       " 'Luxembourg': 6,\n",
       " 'Chile': 4472,\n",
       " 'India': 9,\n",
       " 'Egypt': 1,\n",
       " 'Morocco': 28,\n",
       " 'Peru': 16,\n",
       " 'Hungary': 146,\n",
       " 'Ukraine': 14,\n",
       " 'Georgia': 86,\n",
       " 'Bulgaria': 141,\n",
       " 'Romania': 120,\n",
       " 'South Africa': 1401,\n",
       " 'Armenia': 2,\n",
       " 'Canada': 257,\n",
       " 'Macedonia': 12,\n",
       " 'New Zealand': 1419,\n",
       " 'Israel': 505,\n",
       " 'Portugal': 5691,\n",
       " 'Slovakia': 1,\n",
       " 'Greece': 466,\n",
       " 'Italy': 19540,\n",
       " 'Argentina': 3800}"
      ]
     },
     "execution_count": 10,
     "metadata": {},
     "output_type": "execute_result"
    }
   ],
   "source": [
    "# Create a new dictionary in which im going to store the answer\n",
    "new_dict = {}\n",
    "\n",
    "# Create set comprenhasion which has all the countries in it  \n",
    "countries = {\n",
    "    wine[\"country\"] for wine in wines\n",
    "}\n",
    "\n",
    "# For every wine review we need to see in which country was it review\n",
    "# We need to use two for loops\n",
    "for country in countries:\n",
    "    number_of_wines_reviewed = 0\n",
    "    for wine in wines:\n",
    "        if wine [\"country\"] == country:\n",
    "            number_of_wines_reviewed += 1\n",
    "            \n",
    "    new_dict[country] = number_of_wines_reviewed\n",
    "    \n",
    "new_dict"
   ]
  },
  {
   "cell_type": "markdown",
   "metadata": {},
   "source": [
    "### 5. Build a dictionary with the following structure (1 point)\n",
    "{country: average points of wines coming from that country]"
   ]
  },
  {
   "cell_type": "code",
   "execution_count": 4,
   "metadata": {},
   "outputs": [
    {
     "data": {
      "text/plain": [
       "{'Italy': 88.56,\n",
       " 'Portugal': 88.25,\n",
       " 'US': 88.56,\n",
       " 'Spain': 87.29,\n",
       " 'France': 88.85,\n",
       " 'Germany': 89.85,\n",
       " 'Argentina': 86.71,\n",
       " 'Chile': 86.49,\n",
       " 'Australia': 88.58,\n",
       " 'Austria': 90.1,\n",
       " 'South Africa': 88.06,\n",
       " 'New Zealand': 88.3,\n",
       " 'Israel': 88.47,\n",
       " 'Hungary': 89.19,\n",
       " 'Greece': 87.28,\n",
       " 'Romania': 86.4,\n",
       " 'Mexico': 85.26,\n",
       " 'Canada': 89.37,\n",
       " 'Turkey': 88.09,\n",
       " 'Czech Republic': 87.25,\n",
       " 'Slovenia': 88.07,\n",
       " 'Luxembourg': 88.67,\n",
       " 'Croatia': 87.22,\n",
       " 'Georgia': 87.69,\n",
       " 'Uruguay': 86.75,\n",
       " 'England': 91.58,\n",
       " 'Lebanon': 87.69,\n",
       " 'Serbia': 87.5,\n",
       " 'Brazil': 84.67,\n",
       " 'Moldova': 87.2,\n",
       " 'Morocco': 88.57,\n",
       " 'Peru': 83.56,\n",
       " 'India': 90.22,\n",
       " 'Bulgaria': 87.94,\n",
       " 'Cyprus': 87.18,\n",
       " 'Armenia': 87.5,\n",
       " 'Switzerland': 88.57,\n",
       " 'Bosnia and Herzegovina': 86.5,\n",
       " 'Ukraine': 84.07,\n",
       " 'Slovakia': 87.0,\n",
       " 'Macedonia': 86.83,\n",
       " 'China': 89.0,\n",
       " 'Egypt': 84.0}"
      ]
     },
     "execution_count": 4,
     "metadata": {},
     "output_type": "execute_result"
    }
   ],
   "source": [
    "# We want one counter per country\n",
    "counter = {}\n",
    "for review in wines:\n",
    "    country = review[\"country\"]\n",
    "    if country in counter.keys():\n",
    "        counter[country] = counter[country] + 1\n",
    "    elif bool(country):\n",
    "        counter[country] = 1\n",
    "\n",
    "countries = set()\n",
    "\n",
    "for review in wines:\n",
    "    countries\n",
    "    \n",
    "points_sum = {}\n",
    "\n",
    "# Start to define the function\n",
    "for review in wines:\n",
    "    points = review[\"points\"]\n",
    "    country = review[\"country\"]\n",
    "    if country in points_sum.keys():\n",
    "        points_sum[country] = int(points_sum[country]) + int(points)\n",
    "    elif bool(country):\n",
    "        points_sum[country] = int(points)\n",
    "        \n",
    "\n",
    "# We are going to create a dictionary where we are going to indicate the final result\n",
    "# average_points is going to be the dictionary where the keys are going to be the countries and the points score\n",
    "# points_sum divided by how many times the country shows up\n",
    "average_points = {}\n",
    "\n",
    "# Its cover with a for loop the keys of both dictionaries points_sum and average_points from the counter\n",
    "for country in points_sum.keys():\n",
    "    average_points[country] = round(points_sum[country] / counter[country], 2)\n",
    "\n",
    "# Going to star filling up the dictionary with the result that we are looking for and the sum of all the points\n",
    "# and the number of countries\n",
    "average_points"
   ]
  },
  {
   "cell_type": "markdown",
   "metadata": {},
   "source": [
    "### 6. What's the province that produces the wines with the highest rating? (1 point)"
   ]
  },
  {
   "cell_type": "code",
   "execution_count": 51,
   "metadata": {},
   "outputs": [
    {
     "name": "stdout",
     "output_type": "stream",
     "text": [
      "Südburgenland: 94.0\n"
     ]
    }
   ],
   "source": [
    "# 1st Process is to find one with the highest rating average\n",
    "# 2nd Process is to delete none province since we do not know the province or is not a province\n",
    "\n",
    "province_counter = {}\n",
    "rating_sum = {}\n",
    "\n",
    "for review in wines:\n",
    "    points = review[\"points\"]\n",
    "    province = review[\"province\"]\n",
    "    if province in rating_sum.keys():\n",
    "        rating_sum[province] = int(rating_sum[province]) + int(points)\n",
    "        province_counter[province] = province_counter[province] + 1\n",
    "    elif bool(province):\n",
    "        rating_sum[province] = int(points)\n",
    "        province_counter[province] = 1\n",
    "        \n",
    "province_avg_of_scores = {}\n",
    "for province in rating_sum.keys():\n",
    "    province_avg_of_scores[province] = round(rating_sum[province] / province_counter[province], 2)\n",
    "    \n",
    "best_province = \"\"\n",
    "best_rating = 0\n",
    "\n",
    "for province, value in province_avg_of_scores.items():\n",
    "    if province_avg_of_scores[province] > best_rating:\n",
    "        best_rating = province_avg_of_scores[province]\n",
    "        best_province = province\n",
    "    \n",
    "print(best_province + \": \" + str(best_rating))"
   ]
  },
  {
   "cell_type": "markdown",
   "metadata": {},
   "source": [
    "### 7. Update each wine's description by adding at the end of each description the following piece of text (1 point):\n",
    "\n",
    "\"This is a {designation} from {country} that scored {points} points\""
   ]
  },
  {
   "cell_type": "code",
   "execution_count": 11,
   "metadata": {
    "scrolled": true
   },
   "outputs": [
    {
     "data": {
      "text/plain": [
       "{'points': '87',\n",
       " 'title': 'Nicosia 2013 Vulkà Bianco  (Etna)',\n",
       " 'description': \"Aromas include tropical fruit, broom, brimstone and dried herb. The palate isn't overly expressive, offering unripened apple, citrus and dried sage alongside brisk acidity.This is a Vulkà Bianco from Italy that scored 87 pointsThis is a Vulkà Bianco from Italy that scored 87 pointsThis is a Vulkà Bianco from Italy that scored 87 pointsThis is a Vulkà Bianco from Italy that scored 87 points\",\n",
       " 'taster_name': 'Kerin O’Keefe',\n",
       " 'taster_twitter_handle': '@kerinokeefe',\n",
       " 'price': None,\n",
       " 'designation': 'Vulkà Bianco',\n",
       " 'variety': 'White Blend',\n",
       " 'region_1': 'Etna',\n",
       " 'region_2': None,\n",
       " 'province': 'Sicily & Sardinia',\n",
       " 'country': 'Italy',\n",
       " 'winery': 'Nicosia'}"
      ]
     },
     "execution_count": 11,
     "metadata": {},
     "output_type": "execute_result"
    }
   ],
   "source": [
    "# We are using the for loop to get the information require of the json file\n",
    "# We save the values of description, designation, country and points in new libraries call the same\n",
    "for wine in wines:\n",
    "    description = wine[\"description\"]\n",
    "    designation = wine[\"designation\"]\n",
    "    country = wine[\"country\"]\n",
    "    points = wine[\"points\"]\n",
    "\n",
    "# Now we code the different options of the result using the commands if elif and else\n",
    "# As not every review has got all the information, it may miss some values and keys\n",
    "    if designation == None:\n",
    "        wine[\"description\"] = description + f\"This is a wine from an unkonwn designation from {country} that scored {points} points\"\n",
    "    elif country == None:\n",
    "        wine[\"description\"] = description + f\"This is a {designation} from an unkown country that scored {points} points\"\n",
    "    elif designation == None and country == None:\n",
    "        wine[\"description\"] = description + f\"This is a wine from an unkown designation and an unknown country that scored {points} points\"\n",
    "    else:\n",
    "        wine[\"description\"] = description + f\"This is a {designation} from {country} that scored {points} points\"\n",
    "       \n",
    "wines[0]    "
   ]
  },
  {
   "cell_type": "markdown",
   "metadata": {},
   "source": [
    "### 8. What's the proportion of wine tasters that have a Twitter account? (1 point)"
   ]
  },
  {
   "cell_type": "code",
   "execution_count": 24,
   "metadata": {},
   "outputs": [
    {
     "data": {
      "text/html": [
       "<div>\n",
       "<style scoped>\n",
       "    .dataframe tbody tr th:only-of-type {\n",
       "        vertical-align: middle;\n",
       "    }\n",
       "\n",
       "    .dataframe tbody tr th {\n",
       "        vertical-align: top;\n",
       "    }\n",
       "\n",
       "    .dataframe thead th {\n",
       "        text-align: right;\n",
       "    }\n",
       "</style>\n",
       "<table border=\"1\" class=\"dataframe\">\n",
       "  <thead>\n",
       "    <tr style=\"text-align: right;\">\n",
       "      <th></th>\n",
       "      <th>points</th>\n",
       "      <th>title</th>\n",
       "      <th>description</th>\n",
       "      <th>taster_name</th>\n",
       "      <th>taster_twitter_handle</th>\n",
       "      <th>price</th>\n",
       "      <th>designation</th>\n",
       "      <th>variety</th>\n",
       "      <th>region_1</th>\n",
       "      <th>region_2</th>\n",
       "      <th>province</th>\n",
       "      <th>country</th>\n",
       "      <th>winery</th>\n",
       "      <th>length</th>\n",
       "    </tr>\n",
       "  </thead>\n",
       "  <tbody>\n",
       "    <tr>\n",
       "      <th>0</th>\n",
       "      <td>87</td>\n",
       "      <td>Nicosia 2013 Vulkà Bianco  (Etna)</td>\n",
       "      <td>Aromas include tropical fruit, broom, brimston...</td>\n",
       "      <td>Kerin O’Keefe</td>\n",
       "      <td>@kerinokeefe</td>\n",
       "      <td>NaN</td>\n",
       "      <td>Vulkà Bianco</td>\n",
       "      <td>White Blend</td>\n",
       "      <td>Etna</td>\n",
       "      <td>None</td>\n",
       "      <td>Sicily &amp; Sardinia</td>\n",
       "      <td>Italy</td>\n",
       "      <td>Nicosia</td>\n",
       "      <td>24</td>\n",
       "    </tr>\n",
       "    <tr>\n",
       "      <th>1</th>\n",
       "      <td>87</td>\n",
       "      <td>Quinta dos Avidagos 2011 Avidagos Red (Douro)</td>\n",
       "      <td>This is ripe and fruity, a wine that is smooth...</td>\n",
       "      <td>Roger Voss</td>\n",
       "      <td>@vossroger</td>\n",
       "      <td>15.0</td>\n",
       "      <td>Avidagos</td>\n",
       "      <td>Portuguese Red</td>\n",
       "      <td>None</td>\n",
       "      <td>None</td>\n",
       "      <td>Douro</td>\n",
       "      <td>Portugal</td>\n",
       "      <td>Quinta dos Avidagos</td>\n",
       "      <td>38</td>\n",
       "    </tr>\n",
       "    <tr>\n",
       "      <th>2</th>\n",
       "      <td>87</td>\n",
       "      <td>Rainstorm 2013 Pinot Gris (Willamette Valley)</td>\n",
       "      <td>Tart and snappy, the flavors of lime flesh and...</td>\n",
       "      <td>Paul Gregutt</td>\n",
       "      <td>@paulgwine</td>\n",
       "      <td>14.0</td>\n",
       "      <td>None</td>\n",
       "      <td>Pinot Gris</td>\n",
       "      <td>Willamette Valley</td>\n",
       "      <td>Willamette Valley</td>\n",
       "      <td>Oregon</td>\n",
       "      <td>US</td>\n",
       "      <td>Rainstorm</td>\n",
       "      <td>28</td>\n",
       "    </tr>\n",
       "    <tr>\n",
       "      <th>3</th>\n",
       "      <td>87</td>\n",
       "      <td>St. Julian 2013 Reserve Late Harvest Riesling ...</td>\n",
       "      <td>Pineapple rind, lemon pith and orange blossom ...</td>\n",
       "      <td>Alexander Peartree</td>\n",
       "      <td>None</td>\n",
       "      <td>13.0</td>\n",
       "      <td>Reserve Late Harvest</td>\n",
       "      <td>Riesling</td>\n",
       "      <td>Lake Michigan Shore</td>\n",
       "      <td>None</td>\n",
       "      <td>Michigan</td>\n",
       "      <td>US</td>\n",
       "      <td>St. Julian</td>\n",
       "      <td>33</td>\n",
       "    </tr>\n",
       "    <tr>\n",
       "      <th>4</th>\n",
       "      <td>87</td>\n",
       "      <td>Sweet Cheeks 2012 Vintner's Reserve Wild Child...</td>\n",
       "      <td>Much like the regular bottling from 2012, this...</td>\n",
       "      <td>Paul Gregutt</td>\n",
       "      <td>@paulgwine</td>\n",
       "      <td>65.0</td>\n",
       "      <td>Vintner's Reserve Wild Child Block</td>\n",
       "      <td>Pinot Noir</td>\n",
       "      <td>Willamette Valley</td>\n",
       "      <td>Willamette Valley</td>\n",
       "      <td>Oregon</td>\n",
       "      <td>US</td>\n",
       "      <td>Sweet Cheeks</td>\n",
       "      <td>41</td>\n",
       "    </tr>\n",
       "  </tbody>\n",
       "</table>\n",
       "</div>"
      ],
      "text/plain": [
       "  points                                              title  \\\n",
       "0     87                  Nicosia 2013 Vulkà Bianco  (Etna)   \n",
       "1     87      Quinta dos Avidagos 2011 Avidagos Red (Douro)   \n",
       "2     87      Rainstorm 2013 Pinot Gris (Willamette Valley)   \n",
       "3     87  St. Julian 2013 Reserve Late Harvest Riesling ...   \n",
       "4     87  Sweet Cheeks 2012 Vintner's Reserve Wild Child...   \n",
       "\n",
       "                                         description         taster_name  \\\n",
       "0  Aromas include tropical fruit, broom, brimston...       Kerin O’Keefe   \n",
       "1  This is ripe and fruity, a wine that is smooth...          Roger Voss   \n",
       "2  Tart and snappy, the flavors of lime flesh and...        Paul Gregutt   \n",
       "3  Pineapple rind, lemon pith and orange blossom ...  Alexander Peartree   \n",
       "4  Much like the regular bottling from 2012, this...        Paul Gregutt   \n",
       "\n",
       "  taster_twitter_handle  price                         designation  \\\n",
       "0          @kerinokeefe    NaN                        Vulkà Bianco   \n",
       "1            @vossroger   15.0                            Avidagos   \n",
       "2           @paulgwine    14.0                                None   \n",
       "3                  None   13.0                Reserve Late Harvest   \n",
       "4           @paulgwine    65.0  Vintner's Reserve Wild Child Block   \n",
       "\n",
       "          variety             region_1           region_2           province  \\\n",
       "0     White Blend                 Etna               None  Sicily & Sardinia   \n",
       "1  Portuguese Red                 None               None              Douro   \n",
       "2      Pinot Gris    Willamette Valley  Willamette Valley             Oregon   \n",
       "3        Riesling  Lake Michigan Shore               None           Michigan   \n",
       "4      Pinot Noir    Willamette Valley  Willamette Valley             Oregon   \n",
       "\n",
       "    country               winery  length  \n",
       "0     Italy              Nicosia      24  \n",
       "1  Portugal  Quinta dos Avidagos      38  \n",
       "2        US            Rainstorm      28  \n",
       "3        US           St. Julian      33  \n",
       "4        US         Sweet Cheeks      41  "
      ]
     },
     "execution_count": 24,
     "metadata": {},
     "output_type": "execute_result"
    }
   ],
   "source": [
    "# Here we import the information using pandas as to have a more clear view of the json file\n",
    "import pandas as pd\n",
    "df = pd.DataFrame(wines)\n",
    "df.head()"
   ]
  },
  {
   "cell_type": "code",
   "execution_count": 25,
   "metadata": {},
   "outputs": [
    {
     "name": "stdout",
     "output_type": "stream",
     "text": [
      "{'Sean P. Sullivan', None, 'Kerin O’Keefe', 'Fiona Adams', 'Christina Pickard', 'Anne Krebiehl\\xa0MW', 'Lauren Buzzeo', 'Anna Lee C. Iijima', 'Joe Czerwinski', 'Matt Kettmann', 'Roger Voss', 'Alexander Peartree', 'Paul Gregutt', 'Michael Schachner', 'Jim Gordon', 'Carrie Dykes', 'Virginie Boone', 'Susan Kostrzewa', 'Jeff Jenssen', 'Mike DeSimone'}\n",
      "20\n",
      "{'@gordone_cellars', '@kerinokeefe', None, '@vossroger', '@vboone', '@mattkettmann', '@AnneInVino', '@winewchristina', '@wineschach', '@JoeCz', '@suskostrzewa', '@bkfiona', '@laurbuzz', '@paulgwine\\xa0', '@worldwineguys', '@wawinereport'}\n",
      "16\n"
     ]
    }
   ],
   "source": [
    "# In this code, the output is the total number of tasters and their names \n",
    "tasters = set(df[\"taster_name\"])\n",
    "print(tasters)\n",
    "print(len(tasters))\n",
    "\n",
    "# Here we define anly the tasters that have got a twitter account\n",
    "# Also with their names and how many of them\n",
    "twitter_accounts = set(df[\"taster_twitter_handle\"])\n",
    "print(twitter_accounts)\n",
    "print(len(twitter_accounts))\n",
    "\n",
    "# If we compare both results we see that atleast 4 tasters do not have a twitter account"
   ]
  },
  {
   "cell_type": "code",
   "execution_count": 52,
   "metadata": {},
   "outputs": [
    {
     "name": "stdout",
     "output_type": "stream",
     "text": [
      "With twitter:  {'Virginie Boone', 'Roger Voss', 'Sean P. Sullivan', 'Mike DeSimone', 'Lauren Buzzeo', 'Susan Kostrzewa', 'Matt Kettmann', 'Kerin O’Keefe', 'Jeff Jenssen', 'Michael Schachner', 'Paul Gregutt', 'Jim Gordon', 'Fiona Adams', 'Christina Pickard', 'Joe Czerwinski', 'Anne Krebiehl\\xa0MW'}\n",
      "\n",
      "All tasters: {'Sean P. Sullivan', 'Kerin O’Keefe', 'Fiona Adams', 'Christina Pickard', 'Anne Krebiehl\\xa0MW', 'Lauren Buzzeo', 'Anna Lee C. Iijima', 'Joe Czerwinski', 'Matt Kettmann', 'Roger Voss', 'Alexander Peartree', 'Paul Gregutt', 'Michael Schachner', 'Jim Gordon', 'Carrie Dykes', 'Virginie Boone', 'Susan Kostrzewa', 'Jeff Jenssen', 'Mike DeSimone'}\n",
      "\n",
      "Tasters  with Twitter Account: 84.21052631578947%\n"
     ]
    }
   ],
   "source": [
    "# Finally in these cell we combine the knowledge we gain from the previous cells\n",
    "# Were we print the tasters which have got a twitter account and then all the tasters\n",
    "# bu using the equation taster_with_twitter / all_taster we get the proption\n",
    "# Afterwards we multiply by 100 to get the % of the tasters that have got a twitter account\n",
    "all_tasters = set()\n",
    "taster_with_twitter = set()\n",
    "for review in wines:\n",
    "    taster = review[\"taster_name\"]\n",
    "    account = review[\"taster_twitter_handle\"]\n",
    "    if taster != None: \n",
    "        all_tasters.add(taster)\n",
    "        if account != None:\n",
    "            taster_with_twitter.add(taster)\n",
    "\n",
    "# We use != None so while counting the tasters if a None appear then it would not count that review and pass to the next one             \n",
    "print(\"With twitter: \", taster_with_twitter)\n",
    "print(\"\\nAll tasters:\" , all_tasters)\n",
    "print(f\"\\nTasters  with Twitter Account: {len(taster_with_twitter) / len(all_tasters) * 100}%\")"
   ]
  }
 ],
 "metadata": {
  "kernelspec": {
   "display_name": "Python 3",
   "language": "python",
   "name": "python3"
  },
  "language_info": {
   "codemirror_mode": {
    "name": "ipython",
    "version": 3
   },
   "file_extension": ".py",
   "mimetype": "text/x-python",
   "name": "python",
   "nbconvert_exporter": "python",
   "pygments_lexer": "ipython3",
   "version": "3.8.8"
  }
 },
 "nbformat": 4,
 "nbformat_minor": 4
}
